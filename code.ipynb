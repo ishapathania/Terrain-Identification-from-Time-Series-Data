{
  "nbformat": 4,
  "nbformat_minor": 0,
  "metadata": {
    "colab": {
      "name": "ProjC_Team_14.ipynb",
      "provenance": [],
      "collapsed_sections": []
    },
    "kernelspec": {
      "name": "python3",
      "display_name": "Python 3"
    },
    "language_info": {
      "name": "python"
    }
  },
  "cells": [
    {
      "cell_type": "code",
      "metadata": {
        "id": "Rl9Ztsc9GHXy"
      },
      "source": [
        "import pandas as pd\n",
        "import glob\n",
        "from sklearn.model_selection import train_test_split\n",
        "from sklearn import metrics\n",
        "import numpy as np\n",
        "from keras.models import Sequential\n",
        "from keras.layers import Dense\n",
        "from keras.layers import Flatten, Reshape\n",
        "from tensorflow.keras.utils import to_categorical\n",
        "from keras.layers.convolutional import Conv1D\n",
        "from keras.layers.convolutional import MaxPooling1D\n",
        "from tensorflow.keras.optimizers import SGD, Adam, RMSprop\n",
        "from keras.layers import Dropout, InputLayer, LSTM\n",
        "from keras.layers import Bidirectional, BatchNormalization\n",
        "from keras.layers import TimeDistributed\n",
        "from keras.layers import Conv2D, MaxPooling2D, Flatten, Dense, Activation, BatchNormalization, Dropout, UpSampling1D, AveragePooling1D"
      ],
      "execution_count": null,
      "outputs": []
    },
    {
      "cell_type": "code",
      "metadata": {
        "colab": {
          "base_uri": "https://localhost:8080/"
        },
        "id": "oh4kK6e7GZOM",
        "outputId": "3d8e351d-530c-468d-93d3-de83d412c8c5"
      },
      "source": [
        "from google.colab import drive\n",
        "drive.mount('/content/drive')"
      ],
      "execution_count": null,
      "outputs": [
        {
          "output_type": "stream",
          "name": "stdout",
          "text": [
            "Mounted at /content/drive\n"
          ]
        }
      ]
    },
    {
      "cell_type": "markdown",
      "metadata": {
        "id": "xnxDU9-QltI5"
      },
      "source": [
        "Function to modify the dimensions of the x inputs from 6 dimensions to 24 dimensions so that we can have one-to-one mapping with the corresponding labels\n",
        "Run the next 2 cells below to get the modified dataset in a variable called **frame**"
      ]
    },
    {
      "cell_type": "code",
      "metadata": {
        "id": "sSjeivnNG1nO"
      },
      "source": [
        "def prepare_data(imu, imu_t, ann, ann_t):\n",
        "  train_x = pd.concat([imu, imu_t], axis=1)\n",
        "  train_y = pd.concat([ann, ann_t], axis=1)\n",
        "  pos_x = 0\n",
        "  pos_y = 0\n",
        "  train_x_transformed = pd.DataFrame(0.0,index=range(train_y.shape[0]),columns=range(25))\n",
        "  while pos_y < train_y.shape[0]:\n",
        "    temp_row = []\n",
        "    while train_x.loc[pos_x,'x_time'] < train_y.loc[pos_y,'y_time']:\n",
        "      temp_row = temp_row + list(train_x.loc[pos_x,['acc_x','acc_y','acc_z','gyro_x','gyro_y','gyro_z']])\n",
        "      pos_x += 1\n",
        "    for i in range(len(temp_row)):\n",
        "      train_x_transformed.at[pos_y,i] = temp_row[i]\n",
        "    train_x_transformed.at[pos_y,24] = train_y.loc[pos_y,'class']\n",
        "    pos_y +=1\n",
        "  return train_x_transformed"
      ],
      "execution_count": null,
      "outputs": []
    },
    {
      "cell_type": "code",
      "metadata": {
        "colab": {
          "base_uri": "https://localhost:8080/"
        },
        "id": "OPnEiIQTGZ03",
        "outputId": "7020c352-ae71-4f9b-ec55-9dcc24d02f31"
      },
      "source": [
        "import glob\n",
        "import pandas as pd\n",
        "\n",
        "path = '/content/drive/MyDrive/ECE542_fa2021_Project_TerrainRecognition/TrainingData' # Change this as required\n",
        "all_files = glob.glob(path + \"/*__x.csv\")\n",
        "\n",
        "li = []\n",
        "\n",
        "for filename in all_files:\n",
        "  subject_id = filename[len(path):-7]\n",
        "  print(subject_id)\n",
        "  imu = pd.read_csv(path+subject_id+'__x.csv',names=['acc_x','acc_y','acc_z','gyro_x','gyro_y','gyro_z'])\n",
        "  imu_t = pd.read_csv(path+subject_id+'__x_time.csv',names=['x_time'])\n",
        "  ann = pd.read_csv(path+subject_id+'__y.csv',names=['class'])\n",
        "  ann_t = pd.read_csv(path+subject_id+'__y_time.csv',names=['y_time'])\n",
        "  li.append(prepare_data(imu, imu_t, ann, ann_t))\n",
        "\n",
        "frame = pd.concat(li, axis=0, ignore_index=True)"
      ],
      "execution_count": null,
      "outputs": [
        {
          "output_type": "stream",
          "name": "stdout",
          "text": [
            "/subject_001_01\n",
            "/subject_001_06\n",
            "/subject_001_05\n",
            "/subject_001_03\n",
            "/subject_001_08\n",
            "/subject_001_07\n",
            "/subject_001_04\n",
            "/subject_002_03\n",
            "/subject_002_01\n",
            "/subject_002_05\n",
            "/subject_002_04\n",
            "/subject_002_02\n",
            "/subject_001_02\n",
            "/subject_003_01\n",
            "/subject_003_03\n",
            "/subject_003_02\n",
            "/subject_004_01\n",
            "/subject_004_02\n",
            "/subject_005_02\n",
            "/subject_005_01\n",
            "/subject_005_03\n",
            "/subject_006_01\n",
            "/subject_006_02\n",
            "/subject_006_03\n",
            "/subject_007_01\n",
            "/subject_007_02\n",
            "/subject_007_03\n",
            "/subject_007_04\n",
            "/subject_008_01\n"
          ]
        }
      ]
    },
    {
      "cell_type": "code",
      "metadata": {
        "colab": {
          "base_uri": "https://localhost:8080/"
        },
        "id": "bQwQ0JhQUI9l",
        "outputId": "028a2563-1ed9-4fe2-f388-a173cd361aa8"
      },
      "source": [
        "print(frame.shape)"
      ],
      "execution_count": null,
      "outputs": [
        {
          "output_type": "stream",
          "name": "stdout",
          "text": [
            "(335413, 25)\n"
          ]
        }
      ]
    },
    {
      "cell_type": "markdown",
      "metadata": {
        "id": "t3dnnVjwUAND"
      },
      "source": [
        "Normalizing the data using StandardScalar()"
      ]
    },
    {
      "cell_type": "code",
      "metadata": {
        "id": "A8Ldsc3dHHsE"
      },
      "source": [
        "from sklearn.preprocessing import StandardScaler\n",
        "scaler = StandardScaler()\n",
        "frame.loc[:,frame.columns != 24] = scaler.fit_transform(frame.loc[:,frame.columns != 24])"
      ],
      "execution_count": null,
      "outputs": []
    },
    {
      "cell_type": "markdown",
      "source": [
        ""
      ],
      "metadata": {
        "id": "UDna1E9yeC_Z"
      }
    },
    {
      "cell_type": "code",
      "metadata": {
        "id": "OJgE6Sn_HJcP"
      },
      "source": [
        "df_x = frame.loc[:,frame.columns != 24]\n",
        "df_y = frame.loc[:,frame.columns == 24]"
      ],
      "execution_count": null,
      "outputs": []
    },
    {
      "cell_type": "markdown",
      "metadata": {
        "id": "karKm6ixmMH3"
      },
      "source": [
        "Dividing the Training dataset into train and test dataset"
      ]
    },
    {
      "cell_type": "code",
      "metadata": {
        "id": "sbe5QPfzHMOL"
      },
      "source": [
        "df = frame.sample(frac=1).reset_index(drop=True)\n",
        "\n",
        "# sampling number for each class\n",
        "n1 = 2000\n",
        "n2 = 2000\n",
        "n3 = 2000\n",
        "n4 = 2000\n",
        "\n",
        "\n",
        "# 1. get indexes and lengths for the classes respectively\n",
        "idx1 = df.index.values[df[24] == 0.0]\n",
        "idx2 = df.index.values[df[24] == 1.0]\n",
        "idx3 = df.index.values[df[24] == 2.0]\n",
        "idx4 = df.index.values[df[24] == 3.0]\n",
        "\n",
        "len1 = len(idx1)  # 1000\n",
        "len2 = len(idx2)  # 2500\n",
        "len3 = len(idx3)  # 1000\n",
        "len4 = len(idx4)  \n",
        "\n",
        "# 2. draw index for test dataset\n",
        "draw1 = np.random.permutation(len1)[:n1]  # keep the first n1 entries to be selected\n",
        "idx1_test = idx1[draw1]\n",
        "draw2 = np.random.permutation(len2)[:n2]\n",
        "idx2_test = idx2[draw2]\n",
        "draw3 = np.random.permutation(len3)[:n3]  # keep the first n1 entries to be selected\n",
        "idx3_test = idx3[draw3]\n",
        "draw4 = np.random.permutation(len4)[:n4]\n",
        "idx4_test = idx4[draw4]\n",
        "# combine the drawn indexes\n",
        "idx_test = np.hstack([idx1_test, idx2_test,idx3_test, idx4_test])\n",
        "\n",
        "# 3. derive index for train dataset\n",
        "idx_train = df.index.difference(idx_test)\n",
        "\n",
        "# split\n",
        "df_train = df.loc[idx_train, :]  # optional: .reset_index(drop=True)\n",
        "df_test = df.loc[idx_test, :]\n",
        "# len(df_train) = 3300\n",
        "# len(df_test) = 200    \n",
        "\n",
        "# verify that no row was missing\n",
        "idx_merged = np.hstack([df_train.index.values, df_test.index.values])\n"
      ],
      "execution_count": null,
      "outputs": []
    },
    {
      "cell_type": "code",
      "metadata": {
        "id": "LY9c72DzHObW"
      },
      "source": [
        "df_x = df_train.loc[:,df_train.columns != 24]\n",
        "df_y = df_train.loc[:,df_train.columns == 24]\n",
        "df_x_val = df_test.loc[:,df_test.columns != 24]\n",
        "df_y_val = df_test.loc[:,df_test.columns == 24]"
      ],
      "execution_count": null,
      "outputs": []
    },
    {
      "cell_type": "markdown",
      "metadata": {
        "id": "z5ap_o3TmpYq"
      },
      "source": [
        "Using ADASYN (Adaptive Synthetic Sampling) to solve the data imbalance problem in the dataset"
      ]
    },
    {
      "cell_type": "code",
      "metadata": {
        "id": "Vu0Q8Y4bX-zC"
      },
      "source": [
        "#Data Augmentation Technique\n",
        "from imblearn.over_sampling import ADASYN\n",
        "ada = ADASYN(random_state = 130)\n",
        "df_x,df_y = ada.fit_resample(df_x,df_y)"
      ],
      "execution_count": null,
      "outputs": []
    },
    {
      "cell_type": "markdown",
      "metadata": {
        "id": "KdtMg6Dcm3O5"
      },
      "source": [
        "Converting the labels into one-hot encoded values"
      ]
    },
    {
      "cell_type": "code",
      "metadata": {
        "id": "9ZFwdMF7HPRo"
      },
      "source": [
        "y_train_cat = to_categorical(df_y,4).reshape(-1,4)\n",
        "df_y = pd.DataFrame(y_train_cat, columns = ['l1','l2','l3','l4'])\n",
        "y_train_cat = to_categorical(df_y_val,4).reshape(-1,4)\n",
        "df_y_val = pd.DataFrame(y_train_cat, columns = ['l1','l2','l3','l4'])"
      ],
      "execution_count": null,
      "outputs": []
    },
    {
      "cell_type": "code",
      "metadata": {
        "colab": {
          "base_uri": "https://localhost:8080/"
        },
        "id": "e6AQ7nDDHSLJ",
        "outputId": "8f145cae-d7f6-4acf-d49e-26384a489138"
      },
      "source": [
        "df_x = pd.DataFrame(df_x)\n",
        "print(df_x)"
      ],
      "execution_count": null,
      "outputs": [
        {
          "output_type": "stream",
          "name": "stdout",
          "text": [
            "               0         1         2   ...        21        22        23\n",
            "0       -0.564533 -0.029144 -0.897771  ... -0.882136 -0.975342 -0.318007\n",
            "1       -0.738120  0.173095 -0.349059  ... -0.480346  0.320979  0.754475\n",
            "2        0.100470  0.227963 -0.475916  ...  0.048960 -0.117261  0.103093\n",
            "3       -0.666097  0.253110  0.450280  ... -0.186881 -1.254059 -0.721577\n",
            "4       -0.318037 -0.482365  0.674363  ...  1.769598  1.702597  0.354914\n",
            "...           ...       ...       ...  ...       ...       ...       ...\n",
            "1000840 -0.237399 -0.079255 -0.417723  ... -0.333290 -0.410740  0.190100\n",
            "1000841 -0.253996 -0.015870 -0.465646  ... -0.349621 -0.360833  0.173201\n",
            "1000842 -0.240871 -0.062743 -0.430328  ... -0.263164 -0.402147  0.155830\n",
            "1000843 -0.271232 -0.080264 -0.426674  ... -0.307032 -0.431901  0.152516\n",
            "1000844 -0.256437 -0.024810 -0.461268  ... -0.343615 -0.370048  0.170574\n",
            "\n",
            "[1000845 rows x 24 columns]\n"
          ]
        }
      ]
    },
    {
      "cell_type": "code",
      "metadata": {
        "colab": {
          "base_uri": "https://localhost:8080/"
        },
        "id": "k0fKg4gkkQ19",
        "outputId": "b2098b01-afa4-4349-ca8b-ab7bcd847687"
      },
      "source": [
        "print(df_y)"
      ],
      "execution_count": null,
      "outputs": [
        {
          "output_type": "stream",
          "name": "stdout",
          "text": [
            "          l1   l2   l3   l4\n",
            "0        1.0  0.0  0.0  0.0\n",
            "1        1.0  0.0  0.0  0.0\n",
            "2        1.0  0.0  0.0  0.0\n",
            "3        1.0  0.0  0.0  0.0\n",
            "4        0.0  0.0  0.0  1.0\n",
            "...      ...  ...  ...  ...\n",
            "1000840  0.0  0.0  0.0  1.0\n",
            "1000841  0.0  0.0  0.0  1.0\n",
            "1000842  0.0  0.0  0.0  1.0\n",
            "1000843  0.0  0.0  0.0  1.0\n",
            "1000844  0.0  0.0  0.0  1.0\n",
            "\n",
            "[1000845 rows x 4 columns]\n"
          ]
        }
      ]
    },
    {
      "cell_type": "markdown",
      "metadata": {
        "id": "CJB6BqzWnDKq"
      },
      "source": [
        "Function to convert the data into 3-D format for the model."
      ]
    },
    {
      "cell_type": "code",
      "metadata": {
        "id": "lAvt7n9ZHUIn"
      },
      "source": [
        "def define_windows(df_x, df_y, windowsize=120):\n",
        "  window_x=[]\n",
        "  window_y=[]\n",
        "  for i in range(0, len(df_x)-windowsize, windowsize+1):\n",
        "    window_x.append([df_x.values[i:i+windowsize]])\n",
        "    window_y.append([df_y.values[i:i+windowsize]])\n",
        "    #window_y.append([df_y[['l1','l2','l3','l4']].values[i:i+windowsize]])\n",
        "  print(len(window_x),np.array(window_x).shape,np.array(window_y).shape)\n",
        "  window_x=np.array(window_x).reshape(-1,windowsize,24)\n",
        "  window_y=np.array(window_y).reshape(-1,windowsize,4)\n",
        "\n",
        "  return window_x, window_y"
      ],
      "execution_count": null,
      "outputs": []
    },
    {
      "cell_type": "code",
      "metadata": {
        "colab": {
          "base_uri": "https://localhost:8080/"
        },
        "id": "Xj7aRgXrHWAb",
        "outputId": "66523d52-a330-4ea0-eed4-1a93b638a52e"
      },
      "source": [
        "wsize = 1\n",
        "x_window, y_window = define_windows(df_x, df_y, wsize)\n",
        "y = y_window.copy().reshape(-1,4)\n",
        "print(x_window.shape, y_window.shape,y.shape)"
      ],
      "execution_count": null,
      "outputs": [
        {
          "output_type": "stream",
          "name": "stdout",
          "text": [
            "500422 (500422, 1, 1, 24) (500422, 1, 1, 4)\n",
            "(500422, 1, 24) (500422, 1, 4) (500422, 4)\n"
          ]
        }
      ]
    },
    {
      "cell_type": "code",
      "metadata": {
        "colab": {
          "base_uri": "https://localhost:8080/"
        },
        "id": "zJTfb-bvHXzD",
        "outputId": "c81df918-113b-41b3-8889-ab8f32882396"
      },
      "source": [
        "wsize = 1\n",
        "x_window_val, y_window_val = define_windows(df_x_val, df_y_val, wsize)\n",
        "y_val = y_window_val.copy().reshape(-1,4)\n",
        "print(x_window_val.shape, y_window_val.shape,y_val.shape)"
      ],
      "execution_count": null,
      "outputs": [
        {
          "output_type": "stream",
          "name": "stdout",
          "text": [
            "4000 (4000, 1, 1, 24) (4000, 1, 1, 4)\n",
            "(4000, 1, 24) (4000, 1, 4) (4000, 4)\n"
          ]
        }
      ]
    },
    {
      "cell_type": "code",
      "metadata": {
        "id": "S3ETxoy4HaBB"
      },
      "source": [
        "# To plot the loss and accuracy curves for training and validation datasets\n",
        "import matplotlib.pyplot as plt\n",
        "def plot_history(history):\n",
        "\t  # plot loss\n",
        "    plt.title('Loss')\n",
        "    plt.plot(history.history['loss'], color='blue', label='train')\n",
        "    plt.plot(history.history['val_loss'], color='red', label='validation')\n",
        "    plt.ylabel('Loss')\n",
        "    plt.xlabel('Epoch')\n",
        "    plt.legend(['Train', 'Validation'])\n",
        "    plt.show()\n",
        "    \n",
        "    # plot accuracy\n",
        "    plt.title('Accuracy')\n",
        "    plt.plot(history.history['accuracy'], color='blue', label='train')\n",
        "    plt.plot(history.history['val_accuracy'], color='red', label='validation')\n",
        "    plt.ylabel('Accuracy')\n",
        "    plt.xlabel('Epoch')\n",
        "    plt.legend(['Train', 'Validation'])\n",
        "    plt.show()"
      ],
      "execution_count": null,
      "outputs": []
    },
    {
      "cell_type": "code",
      "metadata": {
        "id": "3LU4fqsMHb9q"
      },
      "source": [
        "\n",
        "# Function for changing the categorical prediction to numerical prediction\n",
        "def flatten_pred(y_pred):\n",
        "  y_hat=[]\n",
        "  for i in y_pred:\n",
        "    for j in i:\n",
        "      y_hat.append(np.argmax(j))\n",
        "  \n",
        "  return y_hat"
      ],
      "execution_count": null,
      "outputs": []
    },
    {
      "cell_type": "markdown",
      "metadata": {
        "id": "6c8s_9V-nlUu"
      },
      "source": [
        "Main Model"
      ]
    },
    {
      "cell_type": "code",
      "metadata": {
        "id": "WV9rGGctLMF-"
      },
      "source": [
        "def create_LSTM():\n",
        "  model = Sequential()\n",
        "  model.add(Bidirectional(LSTM(100,return_sequences=True, input_shape=(1,24))))\n",
        "  model.add(Dropout(0.2))\n",
        "  model.add(LSTM(50, return_sequences=True, activation=\"relu\"))\n",
        "  model.add(Dropout(0.1))\n",
        "  model.add(Dense(25, activation=\"relu\"))\n",
        "  model.add(Dense(4, activation=\"softmax\"))\n",
        "  model.compile(optimizer=Adam(learning_rate=0.01),  loss='categorical_crossentropy', metrics = ['accuracy'], sample_weight_mode=\"temporal\")\n",
        "  return model"
      ],
      "execution_count": null,
      "outputs": []
    },
    {
      "cell_type": "code",
      "metadata": {
        "id": "P6N4XSg3LOee"
      },
      "source": [
        "lstm_model = create_LSTM()"
      ],
      "execution_count": null,
      "outputs": []
    },
    {
      "cell_type": "code",
      "metadata": {
        "id": "ffdNrR9vbPG6"
      },
      "source": [
        "from keras.callbacks import EarlyStopping, ModelCheckpoint, ReduceLROnPlateau"
      ],
      "execution_count": null,
      "outputs": []
    },
    {
      "cell_type": "code",
      "metadata": {
        "colab": {
          "base_uri": "https://localhost:8080/"
        },
        "id": "5K8YFosALQY3",
        "outputId": "7ce1bcf6-182a-47ec-b3d2-9ed0c3a6880b"
      },
      "source": [
        "earlyStopping = EarlyStopping(monitor='val_loss', patience=10, verbose=0, mode='min')\n",
        "mcp_save = ModelCheckpoint('.mdl_wts.hdf5', save_best_only=True, monitor='val_loss', mode='min')\n",
        "reduce_lr_loss = ReduceLROnPlateau(monitor='val_loss', factor=0.1, patience=7, verbose=1, epsilon=1e-4, mode='min')\n",
        "\n",
        "history_lstm = lstm_model.fit(x_window, y_window, epochs=50,batch_size=128, verbose=1,callbacks=[earlyStopping, mcp_save, reduce_lr_loss], validation_data=(x_window_val, y_window_val))"
      ],
      "execution_count": null,
      "outputs": [
        {
          "output_type": "stream",
          "name": "stdout",
          "text": [
            "WARNING:tensorflow:`epsilon` argument is deprecated and will be removed, use `min_delta` instead.\n",
            "Epoch 1/50\n",
            "3910/3910 [==============================] - 54s 12ms/step - loss: 0.6643 - accuracy: 0.7029 - val_loss: 0.5351 - val_accuracy: 0.7582 - lr: 0.0100\n",
            "Epoch 2/50\n",
            "3910/3910 [==============================] - 47s 12ms/step - loss: 0.5446 - accuracy: 0.7607 - val_loss: 0.5090 - val_accuracy: 0.7822 - lr: 0.0100\n",
            "Epoch 3/50\n",
            "3910/3910 [==============================] - 44s 11ms/step - loss: 0.5152 - accuracy: 0.7754 - val_loss: 0.4884 - val_accuracy: 0.7952 - lr: 0.0100\n",
            "Epoch 4/50\n",
            "3910/3910 [==============================] - 43s 11ms/step - loss: 0.4977 - accuracy: 0.7832 - val_loss: 0.5002 - val_accuracy: 0.7885 - lr: 0.0100\n",
            "Epoch 5/50\n",
            "3910/3910 [==============================] - 45s 12ms/step - loss: 0.4860 - accuracy: 0.7890 - val_loss: 0.5025 - val_accuracy: 0.7945 - lr: 0.0100\n",
            "Epoch 6/50\n",
            "3910/3910 [==============================] - 45s 11ms/step - loss: 0.4764 - accuracy: 0.7936 - val_loss: 0.4982 - val_accuracy: 0.7918 - lr: 0.0100\n",
            "Epoch 7/50\n",
            "3910/3910 [==============================] - 44s 11ms/step - loss: 0.4702 - accuracy: 0.7958 - val_loss: 0.5001 - val_accuracy: 0.7918 - lr: 0.0100\n",
            "Epoch 8/50\n",
            "3910/3910 [==============================] - 43s 11ms/step - loss: 0.4639 - accuracy: 0.7990 - val_loss: 0.5167 - val_accuracy: 0.7893 - lr: 0.0100\n",
            "Epoch 9/50\n",
            "3910/3910 [==============================] - 43s 11ms/step - loss: 0.4599 - accuracy: 0.8012 - val_loss: 0.4842 - val_accuracy: 0.7965 - lr: 0.0100\n",
            "Epoch 10/50\n",
            "3910/3910 [==============================] - 44s 11ms/step - loss: 0.4552 - accuracy: 0.8038 - val_loss: 0.4951 - val_accuracy: 0.8012 - lr: 0.0100\n",
            "Epoch 11/50\n",
            "3910/3910 [==============================] - 43s 11ms/step - loss: 0.4523 - accuracy: 0.8053 - val_loss: 0.4956 - val_accuracy: 0.8040 - lr: 0.0100\n",
            "Epoch 12/50\n",
            "3910/3910 [==============================] - 44s 11ms/step - loss: 0.4498 - accuracy: 0.8063 - val_loss: 0.5392 - val_accuracy: 0.7903 - lr: 0.0100\n",
            "Epoch 13/50\n",
            "3910/3910 [==============================] - 45s 11ms/step - loss: 0.4467 - accuracy: 0.8078 - val_loss: 0.4972 - val_accuracy: 0.7987 - lr: 0.0100\n",
            "Epoch 14/50\n",
            "3910/3910 [==============================] - 43s 11ms/step - loss: 0.4441 - accuracy: 0.8088 - val_loss: 0.4956 - val_accuracy: 0.7995 - lr: 0.0100\n",
            "Epoch 15/50\n",
            "3910/3910 [==============================] - 43s 11ms/step - loss: 0.4412 - accuracy: 0.8100 - val_loss: 0.4993 - val_accuracy: 0.8020 - lr: 0.0100\n",
            "Epoch 16/50\n",
            "3910/3910 [==============================] - ETA: 0s - loss: 0.4394 - accuracy: 0.8113\n",
            "Epoch 00016: ReduceLROnPlateau reducing learning rate to 0.0009999999776482583.\n",
            "3910/3910 [==============================] - 43s 11ms/step - loss: 0.4394 - accuracy: 0.8113 - val_loss: 0.5276 - val_accuracy: 0.7860 - lr: 0.0100\n",
            "Epoch 17/50\n",
            "3910/3910 [==============================] - 43s 11ms/step - loss: 0.3996 - accuracy: 0.8282 - val_loss: 0.4790 - val_accuracy: 0.8142 - lr: 1.0000e-03\n",
            "Epoch 18/50\n",
            "3910/3910 [==============================] - 45s 12ms/step - loss: 0.3827 - accuracy: 0.8346 - val_loss: 0.4858 - val_accuracy: 0.8043 - lr: 1.0000e-03\n",
            "Epoch 19/50\n",
            "3910/3910 [==============================] - 43s 11ms/step - loss: 0.3772 - accuracy: 0.8367 - val_loss: 0.4834 - val_accuracy: 0.8185 - lr: 1.0000e-03\n",
            "Epoch 20/50\n",
            "3910/3910 [==============================] - 43s 11ms/step - loss: 0.3733 - accuracy: 0.8383 - val_loss: 0.4839 - val_accuracy: 0.8158 - lr: 1.0000e-03\n",
            "Epoch 21/50\n",
            "3910/3910 [==============================] - 43s 11ms/step - loss: 0.3711 - accuracy: 0.8397 - val_loss: 0.4811 - val_accuracy: 0.8135 - lr: 1.0000e-03\n",
            "Epoch 22/50\n",
            "3910/3910 [==============================] - 43s 11ms/step - loss: 0.3680 - accuracy: 0.8413 - val_loss: 0.4833 - val_accuracy: 0.8177 - lr: 1.0000e-03\n",
            "Epoch 23/50\n",
            "3910/3910 [==============================] - 43s 11ms/step - loss: 0.3669 - accuracy: 0.8420 - val_loss: 0.4865 - val_accuracy: 0.8175 - lr: 1.0000e-03\n",
            "Epoch 24/50\n",
            "3909/3910 [============================>.] - ETA: 0s - loss: 0.3645 - accuracy: 0.8431\n",
            "Epoch 00024: ReduceLROnPlateau reducing learning rate to 9.999999310821295e-05.\n",
            "3910/3910 [==============================] - 44s 11ms/step - loss: 0.3645 - accuracy: 0.8431 - val_loss: 0.4912 - val_accuracy: 0.8158 - lr: 1.0000e-03\n",
            "Epoch 25/50\n",
            "3910/3910 [==============================] - 45s 11ms/step - loss: 0.3609 - accuracy: 0.8441 - val_loss: 0.4885 - val_accuracy: 0.8170 - lr: 1.0000e-04\n",
            "Epoch 26/50\n",
            "3910/3910 [==============================] - 44s 11ms/step - loss: 0.3605 - accuracy: 0.8439 - val_loss: 0.4870 - val_accuracy: 0.8167 - lr: 1.0000e-04\n",
            "Epoch 27/50\n",
            "3910/3910 [==============================] - 43s 11ms/step - loss: 0.3604 - accuracy: 0.8440 - val_loss: 0.4869 - val_accuracy: 0.8170 - lr: 1.0000e-04\n"
          ]
        }
      ]
    },
    {
      "cell_type": "code",
      "metadata": {
        "colab": {
          "base_uri": "https://localhost:8080/"
        },
        "id": "RpfjdHGpH5Nm",
        "outputId": "5b61ad32-dc89-4bbd-8a63-7f844a58e31d"
      },
      "source": [
        "#This is our final model\n",
        "from sklearn.metrics import classification_report\n",
        "\n",
        "y_val_pred = lstm_model.predict(x_window_val)\n",
        "print(y_val_pred.shape)\n",
        "y_val_pred_flat = flatten_pred(y_val_pred)\n",
        "y_val_flat = flatten_pred(y_window_val)\n",
        "print(len(y_val_pred_flat),len(y_val_flat))\n",
        "print(classification_report(y_val_pred_flat, y_val_flat))"
      ],
      "execution_count": null,
      "outputs": [
        {
          "output_type": "stream",
          "name": "stdout",
          "text": [
            "(4000, 1, 4)\n",
            "4000 4000\n",
            "              precision    recall  f1-score   support\n",
            "\n",
            "           0       0.66      0.70      0.68       940\n",
            "           1       0.92      0.93      0.92       985\n",
            "           2       0.95      0.93      0.94      1023\n",
            "           3       0.74      0.70      0.72      1052\n",
            "\n",
            "    accuracy                           0.82      4000\n",
            "   macro avg       0.82      0.82      0.82      4000\n",
            "weighted avg       0.82      0.82      0.82      4000\n",
            "\n"
          ]
        }
      ]
    },
    {
      "cell_type": "markdown",
      "metadata": {
        "id": "ySkK9WE_TbDV"
      },
      "source": [
        "Plotting Loss and Accuracy curves on train and validation dataset"
      ]
    },
    {
      "cell_type": "code",
      "metadata": {
        "id": "qYLK3gNwcxdK",
        "colab": {
          "base_uri": "https://localhost:8080/",
          "height": 573
        },
        "outputId": "afd821f4-204f-4296-c77e-7c3ac80fc5a6"
      },
      "source": [
        "plot_history(history_lstm)"
      ],
      "execution_count": null,
      "outputs": [
        {
          "output_type": "display_data",
          "data": {
            "image/png": "[encoded data removed]",
            "text/plain": [
              "<Figure size 432x288 with 1 Axes>"
            ]
          },
          "metadata": {
            "needs_background": "light"
          }
        },
        {
          "output_type": "display_data",
          "data": {
            "image/png": "[encoded data removed]",
            "text/plain": [
              "<Figure size 432x288 with 1 Axes>"
            ]
          },
          "metadata": {
            "needs_background": "light"
          }
        }
      ]
    },
    {
      "cell_type": "markdown",
      "metadata": {
        "id": "5B6j11C9Tiy7"
      },
      "source": [
        "Displaying the Confusion Matrix"
      ]
    },
    {
      "cell_type": "code",
      "metadata": {
        "colab": {
          "base_uri": "https://localhost:8080/",
          "height": 296
        },
        "id": "e-4B8tYlTqHS",
        "outputId": "c85bcf4f-debf-4603-d4ba-672e39cd1c49"
      },
      "source": [
        "from sklearn.metrics import plot_confusion_matrix, confusion_matrix, ConfusionMatrixDisplay\n",
        "cm = confusion_matrix(y_val_flat,y_val_pred_flat,normalize='true')\n",
        "disp = ConfusionMatrixDisplay(confusion_matrix=cm,display_labels=['0','1','2','3'])\n",
        "disp.plot()"
      ],
      "execution_count": null,
      "outputs": [
        {
          "output_type": "execute_result",
          "data": {
            "text/plain": [
              "<sklearn.metrics._plot.confusion_matrix.ConfusionMatrixDisplay at 0x7f3f23ae3750>"
            ]
          },
          "metadata": {},
          "execution_count": 51
        },
        {
          "output_type": "display_data",
          "data": {
            "image/png": "[encoded data removed]",
            "text/plain": [
              "<Figure size 432x288 with 2 Axes>"
            ]
          },
          "metadata": {
            "needs_background": "light"
          }
        }
      ]
    },
    {
      "cell_type": "markdown",
      "metadata": {
        "id": "1FwVcQXQSoBj"
      },
      "source": [
        "Generating Predictions for the Unknown test data set"
      ]
    },
    {
      "cell_type": "code",
      "metadata": {
        "id": "4qakBzJfIB1d"
      },
      "source": [
        "\n",
        "# Defining Function to Create window for test dataset\n",
        "def define_test_windows(df_x, windowsize=40):\n",
        "  window_x=[]\n",
        "  for i in range(0, len(df_x)-windowsize, windowsize):\n",
        "    window_x.append([df_x.values[i:i+windowsize]])\n",
        "  window_x=np.array(window_x).reshape(-1,windowsize,24)\n",
        "  \n",
        "  return window_x"
      ],
      "execution_count": null,
      "outputs": []
    },
    {
      "cell_type": "code",
      "metadata": {
        "id": "h82Obud7IDQw"
      },
      "source": [
        "def predict_testdata(imu, imu_t, ann_t):\n",
        "  train_x = pd.concat([imu, imu_t], axis=1)\n",
        "  train_y = pd.concat([ann_t], axis=1)\n",
        "  pos_x = 0\n",
        "  pos_y = 0\n",
        "  train_x_transformed = pd.DataFrame(0.0,index=range(train_y.shape[0]),columns=range(24))\n",
        "  label_y = []\n",
        "  while pos_y < train_y.shape[0]:\n",
        "    temp_row = []\n",
        "    while train_x.loc[pos_x,'x_time'] < train_y.loc[pos_y,'y_time']:\n",
        "      temp_row = temp_row + list(train_x.loc[pos_x,['acc_x','acc_y','acc_z','gyro_x','gyro_y','gyro_z']])\n",
        "      pos_x += 1\n",
        "    for i in range(len(temp_row)):\n",
        "      train_x_transformed.at[pos_y,i] = temp_row[i]\n",
        "    pos_y +=1\n",
        "  scaler = StandardScaler()\n",
        "  df_x = scaler.fit_transform(train_x_transformed)\n",
        "  df_x = pd.DataFrame(df_x)\n",
        "  df_x = define_test_windows(df_x, 1)\n",
        "  y_pred = lstm_model.predict(df_x)\n",
        "  y_pred = y_pred.tolist()\n",
        "  y_pred = flatten_pred(y_pred)\n",
        "  for i in range(train_y.shape[0]-len(y_pred)):\n",
        "    y_pred.append(0)\n",
        "  print(len(y_pred))\n",
        "  print(train_y.shape)\n",
        "  label_df = pd.DataFrame(y_pred, columns = None)\n",
        "  return label_df\n"
      ],
      "execution_count": null,
      "outputs": []
    },
    {
      "cell_type": "code",
      "metadata": {
        "colab": {
          "base_uri": "https://localhost:8080/"
        },
        "id": "vQ15qQgAIFCh",
        "outputId": "bf6ac661-8e98-4cc0-b7a6-94193a80c69d"
      },
      "source": [
        "t_path = '/content/drive/MyDrive/ECE542_fa2021_Project_TerrainRecognition/TestData/' # Change this as required\n",
        "all_files = glob.glob(t_path + \"/*__x.csv\")\n",
        "\n",
        "for filename in all_files:\n",
        "  subject_id = filename[len(t_path):-7]\n",
        "  print(subject_id)\n",
        "  imu = pd.read_csv(t_path+subject_id+'__x.csv',names=['acc_x','acc_y','acc_z','gyro_x','gyro_y','gyro_z'])\n",
        "  imu_t = pd.read_csv(t_path+subject_id+'__x_time.csv',names=['x_time'])\n",
        "  # ann = pd.read_csv(path+subject_id+'__y.csv',names=['class'])\n",
        "  ann_t = pd.read_csv(t_path+subject_id+'__y_time.csv',names=['y_time'])\n",
        "  ann = predict_testdata(imu, imu_t, ann_t)\n",
        "  ann.to_csv('/content/drive/MyDrive/Team_14_Final_preds_C3/'+subject_id+'__y.csv',index=False, header=None, index_label=False)"
      ],
      "execution_count": null,
      "outputs": [
        {
          "output_type": "stream",
          "name": "stdout",
          "text": [
            "subject_012_01\n",
            "11330\n",
            "(11330, 1)\n",
            "subject_011_01\n",
            "12940\n",
            "(12940, 1)\n",
            "subject_010_01\n",
            "12270\n",
            "(12270, 1)\n",
            "subject_009_01\n",
            "9498\n",
            "(9498, 1)\n"
          ]
        }
      ]
    },
    {
      "cell_type": "markdown",
      "metadata": {
        "id": "Y2fgqOksVpv2"
      },
      "source": [
        "Plotting one of the Test prediction values"
      ]
    },
    {
      "cell_type": "code",
      "metadata": {
        "colab": {
          "base_uri": "https://localhost:8080/",
          "height": 606
        },
        "id": "VBWbUqsGU_lR",
        "outputId": "26240d4e-0db7-4a2a-916b-17dafb46fdef"
      },
      "source": [
        "plt.rcParams[\"figure.figsize\"] = (10,10)\n",
        "y_time = pd.read_csv('/content/drive/MyDrive/ECE542_fa2021_Project_TerrainRecognition/TestData/subject_009_01__y_time.csv',names=['y_time'])\n",
        "y_values = pd.read_csv('/content/drive/MyDrive/Team_14_Final_preds_C3/subject_009_01__y.csv',names=['class'])\n",
        "plt.plot(y_time, y_values)\n",
        "plt.xlabel(\"Time\")\n",
        "plt.ylabel(\"Labels\")\n",
        "plt.savefig('the_best_plot.pdf')"
      ],
      "execution_count": null,
      "outputs": [
        {
          "output_type": "display_data",
          "data": {
            "image/png": "[encoded data removed]",
            "text/plain": [
              "<Figure size 720x720 with 1 Axes>"
            ]
          },
          "metadata": {
            "needs_background": "light"
          }
        }
      ]
    },
    {
      "cell_type": "code",
      "metadata": {
        "colab": {
          "base_uri": "https://localhost:8080/"
        },
        "id": "E1hfbbaQXQvM",
        "outputId": "388bdf30-3a70-49a9-f19d-f746c1634ed8"
      },
      "source": [
        "y_values.value_counts()"
      ],
      "execution_count": null,
      "outputs": [
        {
          "output_type": "execute_result",
          "data": {
            "text/plain": [
              "class\n",
              "3        3866\n",
              "0        3636\n",
              "1        1527\n",
              "2         469\n",
              "dtype: int64"
            ]
          },
          "metadata": {},
          "execution_count": 16
        }
      ]
    },
    {
      "cell_type": "code",
      "metadata": {
        "id": "SlnZBuMfZYRn"
      },
      "source": [
        ""
      ],
      "execution_count": null,
      "outputs": []
    }
  ]
}